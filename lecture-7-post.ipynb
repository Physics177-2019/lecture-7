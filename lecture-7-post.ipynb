{
  "nbformat": 4,
  "nbformat_minor": 0,
  "metadata": {
    "colab": {
      "name": "lecture-7.ipynb",
      "version": "0.3.2",
      "provenance": []
    },
    "kernelspec": {
      "display_name": "Python 3",
      "language": "python",
      "name": "python3"
    }
  },
  "cells": [
    {
      "metadata": {
        "id": "yTUJbHOQ2G-I",
        "colab_type": "code",
        "colab": {
          "base_uri": "https://localhost:8080/",
          "height": 447
        },
        "outputId": "8ea15402-5cea-4c69-cd1e-fd0872b35837"
      },
      "cell_type": "code",
      "source": [
        "!pip install seaborn --upgrade"
      ],
      "execution_count": 1,
      "outputs": [
        {
          "output_type": "stream",
          "text": [
            "Collecting seaborn\n",
            "\u001b[?25l  Downloading https://files.pythonhosted.org/packages/a8/76/220ba4420459d9c4c9c9587c6ce607bf56c25b3d3d2de62056efe482dadc/seaborn-0.9.0-py3-none-any.whl (208kB)\n",
            "\r\u001b[K    4% |█▋                              | 10kB 20.1MB/s eta 0:00:01\r\u001b[K    9% |███▏                            | 20kB 3.1MB/s eta 0:00:01\r\u001b[K    14% |████▊                           | 30kB 4.5MB/s eta 0:00:01\r\u001b[K    19% |██████▎                         | 40kB 2.9MB/s eta 0:00:01\r\u001b[K    24% |███████▉                        | 51kB 3.5MB/s eta 0:00:01\r\u001b[K    29% |█████████▌                      | 61kB 4.2MB/s eta 0:00:01\r\u001b[K    34% |███████████                     | 71kB 4.8MB/s eta 0:00:01\r\u001b[K    39% |████████████▋                   | 81kB 5.4MB/s eta 0:00:01\r\u001b[K    44% |██████████████▏                 | 92kB 6.0MB/s eta 0:00:01\r\u001b[K    49% |███████████████▊                | 102kB 4.7MB/s eta 0:00:01\r\u001b[K    54% |█████████████████▎              | 112kB 4.8MB/s eta 0:00:01\r\u001b[K    59% |███████████████████             | 122kB 6.5MB/s eta 0:00:01\r\u001b[K    63% |████████████████████▌           | 133kB 6.5MB/s eta 0:00:01\r\u001b[K    68% |██████████████████████          | 143kB 11.9MB/s eta 0:00:01\r\u001b[K    73% |███████████████████████▋        | 153kB 12.2MB/s eta 0:00:01\r\u001b[K    78% |█████████████████████████▏      | 163kB 12.1MB/s eta 0:00:01\r\u001b[K    83% |██████████████████████████▊     | 174kB 12.1MB/s eta 0:00:01\r\u001b[K    88% |████████████████████████████▍   | 184kB 12.2MB/s eta 0:00:01\r\u001b[K    93% |██████████████████████████████  | 194kB 12.4MB/s eta 0:00:01\r\u001b[K    98% |███████████████████████████████▌| 204kB 40.8MB/s eta 0:00:01\r\u001b[K    100% |████████████████████████████████| 215kB 26.3MB/s \n",
            "\u001b[?25hRequirement already satisfied, skipping upgrade: numpy>=1.9.3 in /usr/local/lib/python3.6/dist-packages (from seaborn) (1.14.6)\n",
            "Requirement already satisfied, skipping upgrade: pandas>=0.15.2 in /usr/local/lib/python3.6/dist-packages (from seaborn) (0.22.0)\n",
            "Requirement already satisfied, skipping upgrade: matplotlib>=1.4.3 in /usr/local/lib/python3.6/dist-packages (from seaborn) (3.0.2)\n",
            "Requirement already satisfied, skipping upgrade: scipy>=0.14.0 in /usr/local/lib/python3.6/dist-packages (from seaborn) (1.1.0)\n",
            "Requirement already satisfied, skipping upgrade: pytz>=2011k in /usr/local/lib/python3.6/dist-packages (from pandas>=0.15.2->seaborn) (2018.9)\n",
            "Requirement already satisfied, skipping upgrade: python-dateutil>=2 in /usr/local/lib/python3.6/dist-packages (from pandas>=0.15.2->seaborn) (2.5.3)\n",
            "Requirement already satisfied, skipping upgrade: kiwisolver>=1.0.1 in /usr/local/lib/python3.6/dist-packages (from matplotlib>=1.4.3->seaborn) (1.0.1)\n",
            "Requirement already satisfied, skipping upgrade: cycler>=0.10 in /usr/local/lib/python3.6/dist-packages (from matplotlib>=1.4.3->seaborn) (0.10.0)\n",
            "Requirement already satisfied, skipping upgrade: pyparsing!=2.0.4,!=2.1.2,!=2.1.6,>=2.0.1 in /usr/local/lib/python3.6/dist-packages (from matplotlib>=1.4.3->seaborn) (2.3.1)\n",
            "Requirement already satisfied, skipping upgrade: six>=1.5 in /usr/local/lib/python3.6/dist-packages (from python-dateutil>=2->pandas>=0.15.2->seaborn) (1.11.0)\n",
            "Requirement already satisfied, skipping upgrade: setuptools in /usr/local/lib/python3.6/dist-packages (from kiwisolver>=1.0.1->matplotlib>=1.4.3->seaborn) (40.6.3)\n",
            "Installing collected packages: seaborn\n",
            "  Found existing installation: seaborn 0.7.1\n",
            "    Uninstalling seaborn-0.7.1:\n",
            "      Successfully uninstalled seaborn-0.7.1\n",
            "Successfully installed seaborn-0.9.0\n",
            "\u001b[0;31;1mWARNING: The following packages were previously imported in this runtime:\n",
            "  [seaborn]\n",
            "You must restart the runtime in order to use newly installed versions.\u001b[0m\n"
          ],
          "name": "stdout"
        }
      ]
    },
    {
      "metadata": {
        "id": "_FkWbOxg2G-P",
        "colab_type": "text"
      },
      "cell_type": "markdown",
      "source": [
        "# Lecture 7: Runge-Kutta method\n",
        "\n",
        "The [Runge-Kutta method](https://en.wikipedia.org/wiki/Runge%E2%80%93Kutta_methods) works by interpolating between discretized time points to (typically) better estimate the change in a function as the independent variable(s) change. Standard numerical routines often use a fourth-order approximation, but here we will follow the second order method. Given\n",
        "\n",
        "$$ \\frac{d x}{d t} = f(x, t)\\,, $$\n",
        "\n",
        "numerical integration of $x(t)$ by the second order Runge-Kutta method proceeds according to\n",
        "\n",
        "$$\n",
        "\\begin{align} \\begin{aligned}\n",
        "k_1 &= \\Delta t \\; f(x, t)\\,,\\\\\n",
        "k_2 &= \\Delta t \\; f\\left(x + \\frac{\\Delta t}{2}k_1, t + \\frac{\\Delta t}{2}\\right)\\,,\\\\\n",
        "x(t + \\Delta t) &= x(t) + k_2\\,. \n",
        "\\end{aligned} \\end{align}\n",
        "$$\n",
        "\n",
        "Let's write a function to numerically integrate a differential equation using the second order Runge-Kutta method."
      ]
    },
    {
      "metadata": {
        "id": "iQeSKhiX2G-Q",
        "colab_type": "code",
        "colab": {}
      },
      "cell_type": "code",
      "source": [
        "import numpy as np\n",
        "import seaborn as sns\n",
        "import matplotlib.pyplot as plt\n",
        "\n",
        "# Define the integration function using the second order Runge-Kutta method below\n",
        "\n",
        "def rk(f, x0, a, b, n):\n",
        "  dt = (b-a)/n\n",
        "  t_values = np.arange(a, b, dt)\n",
        "  x_values = []\n",
        "  \n",
        "  x_current = x0\n",
        "  for t in t_values:\n",
        "    x_values.append(x_current)\n",
        "    k1 = dt * f(x_current, t)\n",
        "    k2 = dt * f(x_current + (dt * k1 / 2), t + (dt / 2))\n",
        "    x_current = x_current + k2\n",
        "    \n",
        "  return x_values, t_values\n",
        "  "
      ],
      "execution_count": 0,
      "outputs": []
    },
    {
      "metadata": {
        "id": "v5uu13Xy2G-U",
        "colab_type": "code",
        "colab": {}
      },
      "cell_type": "code",
      "source": [
        "\n",
        "\n",
        "\n",
        "\n",
        "\n",
        "\n",
        "\n",
        "\n",
        "\n",
        "\n",
        "\n",
        "\n",
        "\n",
        "\n",
        "\n",
        "\n",
        "\n",
        "\n",
        "\n",
        "\n",
        "\n",
        "\n"
      ],
      "execution_count": 0,
      "outputs": []
    },
    {
      "metadata": {
        "id": "fajsEl7D2G-b",
        "colab_type": "text"
      },
      "cell_type": "markdown",
      "source": [
        "### Visualizing the Runge-Kutta method\n",
        "\n",
        "To examine the output in a simple case, let's return to the differential equation\n",
        "\n",
        "$$ \\frac{dx}{dt} = -x^3 + 0.1\\,$$\n",
        "\n",
        "that we considered last time, starting again with the initial condition $x(0) = 0$. How does the result look as we change the number of steps?"
      ]
    },
    {
      "metadata": {
        "id": "fKJzQIZU2G-d",
        "colab_type": "code",
        "colab": {
          "base_uri": "https://localhost:8080/",
          "height": 297
        },
        "outputId": "cf905088-3444-43d4-81ff-eeb2d81b36e5"
      },
      "cell_type": "code",
      "source": [
        "# Define the function and perform the integration\n",
        "\n",
        "def f(x, t):\n",
        "  return -x**3 + 0.1\n",
        "\n",
        "x, t = rk(f, 0, 0, 20, 100)\n",
        "\n",
        "sns.lineplot(t, x)\n",
        "plt.xlabel(r'$t$')\n",
        "plt.ylabel(r'$x$')\n",
        "plt.title(\"Integration with the Runge-Kutta method\");"
      ],
      "execution_count": 6,
      "outputs": [
        {
          "output_type": "display_data",
          "data": {
            "image/png": "[encoded data removed]",
            "text/plain": [
              "<Figure size 432x288 with 1 Axes>"
            ]
          },
          "metadata": {
            "tags": []
          }
        }
      ]
    },
    {
      "metadata": {
        "id": "lvYEl-3y2G-h",
        "colab_type": "code",
        "colab": {}
      },
      "cell_type": "code",
      "source": [
        "\n",
        "\n",
        "\n",
        "\n",
        "\n",
        "\n",
        "\n",
        "\n",
        "\n",
        "\n",
        "\n",
        "\n",
        "\n",
        "\n",
        "\n",
        "\n",
        "\n",
        "\n",
        "\n",
        "\n",
        "\n",
        "\n"
      ],
      "execution_count": 0,
      "outputs": []
    },
    {
      "metadata": {
        "id": "eBPYs7pa2G-l",
        "colab_type": "text"
      },
      "cell_type": "markdown",
      "source": [
        "### Applying the Runge-Kutta method to a real example\n",
        "\n",
        "This problem is taken from exercise 8.1 in Newman's *[Computational Physics](http://www-personal.umich.edu/~mejn/cp/)* textbook. Consider the following electrical circuit.\n",
        "\n",
        "<img src=\"https://github.com/Physics177-2019/lecture-7/blob/master/lowpass.png?raw=1\" width=\"400\"/>\n",
        "\n",
        "Assuming that the output load has high impedance, so that current flow out can be neglected, we have the following dynamics for this system,\n",
        "\n",
        "$$ \n",
        "\\begin{align} \\begin{aligned}\n",
        "I R &= V_{in} - V_{out}\\,,\\\\\n",
        "Q   &= C V_{out}\\,,\\\\\n",
        "I   &= \\frac{d Q}{d t}\\,. \n",
        "\\end{aligned} \\end{align}\n",
        "$$\n",
        "\n",
        "These expressions simplify to\n",
        "\n",
        "$$ \\frac{d V_{out}}{d t} = \\frac{1}{RC} \\left(V_{in} - V_{out}\\right)\\,. $$\n",
        "\n",
        "Let's define a function to generate a square wave for the input voltage."
      ]
    },
    {
      "metadata": {
        "id": "5ZSci-jV2G-n",
        "colab_type": "code",
        "colab": {}
      },
      "cell_type": "code",
      "source": [
        "def v_in(t):\n",
        "    return 1 - ( 2 * (np.floor(2*t)%2) )\n",
        "\n",
        "t = np.arange(0, 4, 0.01)\n",
        "sns.lineplot(t, v_in(t))\n",
        "plt.xlabel(r'$t$')\n",
        "plt.ylabel(r'$V_{in}$');"
      ],
      "execution_count": 0,
      "outputs": []
    },
    {
      "metadata": {
        "id": "_RytwTIX2G-r",
        "colab_type": "code",
        "colab": {}
      },
      "cell_type": "code",
      "source": [
        "\n",
        "\n",
        "\n",
        "\n",
        "\n",
        "\n",
        "\n",
        "\n",
        "\n",
        "\n",
        "\n",
        "\n",
        "\n",
        "\n",
        "\n",
        "\n",
        "\n",
        "\n",
        "\n",
        "\n",
        "\n",
        "\n"
      ],
      "execution_count": 0,
      "outputs": []
    },
    {
      "metadata": {
        "id": "NWpwljn22G-v",
        "colab_type": "text"
      },
      "cell_type": "markdown",
      "source": [
        "**Exercise**: Using the Runge-Kutta method, make plots of the output voltage, starting with $V_{out}=0$, from $t=0$ to $t=10$ with this input function and with $RC = 0.01$, $0.1$, $1$, and $10$. Note that the value of $\\Delta t$, or equivalently the number of steps to use, might need to be chosen carefully.\n",
        "\n",
        "This circuit is a type of low-pass filter. Based on your plots, does the name make sense?"
      ]
    },
    {
      "metadata": {
        "id": "oZehjdnT2G-x",
        "colab_type": "code",
        "colab": {}
      },
      "cell_type": "code",
      "source": [
        "# Set up the integral using different values of RC\n",
        "\n",
        "RC_values = [0.01, 0.1, 1, 10]\n",
        "\n",
        "t_arrays = [] # Fill this in!\n",
        "v_arrays = [] # Generate this!\n",
        "\n",
        "# Plot the output\n",
        "\n",
        "sns.lineplot(t_arrays[0], v_arrays[0], label=r'$RC = 0.01$')\n",
        "sns.lineplot(t_arrays[1], v_arrays[1], label=r'$RC = 0.1$')\n",
        "sns.lineplot(t_arrays[2], v_arrays[2], label=r'$RC = 1$')\n",
        "sns.lineplot(t_arrays[3], v_arrays[3], label=r'$RC = 10$')\n",
        "\n",
        "plt.xlabel(r'$t$')\n",
        "plt.ylabel(r'$V_{out}$');"
      ],
      "execution_count": 0,
      "outputs": []
    }
  ]
}